{
 "cells": [
  {
   "cell_type": "markdown",
   "metadata": {},
   "source": [
    "# Exploring Ebay Car Sales Data:-\n",
    "*We'll work with a dataset of used cars from eBay Kleinanzeigen, a classifieds section of the German eBay website.*"
   ]
  },
  {
   "cell_type": "markdown",
   "metadata": {},
   "source": [
    "**Importing Essential Python Library**"
   ]
  },
  {
   "cell_type": "code",
   "execution_count": 1,
   "metadata": {},
   "outputs": [],
   "source": [
    "import pandas as pd\n",
    "import numpy as np"
   ]
  },
  {
   "cell_type": "markdown",
   "metadata": {},
   "source": [
    "**Reading the Data file**"
   ]
  },
  {
   "cell_type": "code",
   "execution_count": 2,
   "metadata": {},
   "outputs": [],
   "source": [
    "autos = pd.read_csv('autos.csv', encoding='Latin-1')"
   ]
  },
  {
   "cell_type": "markdown",
   "metadata": {},
   "source": [
    "**Getting Familiar Data Set**"
   ]
  },
  {
   "cell_type": "code",
   "execution_count": 3,
   "metadata": {},
   "outputs": [
    {
     "data": {
      "text/html": "<div>\n<style scoped>\n    .dataframe tbody tr th:only-of-type {\n        vertical-align: middle;\n    }\n\n    .dataframe tbody tr th {\n        vertical-align: top;\n    }\n\n    .dataframe thead th {\n        text-align: right;\n    }\n</style>\n<table border=\"1\" class=\"dataframe\">\n  <thead>\n    <tr style=\"text-align: right;\">\n      <th></th>\n      <th>dateCrawled</th>\n      <th>name</th>\n      <th>seller</th>\n      <th>offerType</th>\n      <th>price</th>\n      <th>abtest</th>\n      <th>vehicleType</th>\n      <th>yearOfRegistration</th>\n      <th>gearbox</th>\n      <th>powerPS</th>\n      <th>model</th>\n      <th>odometer</th>\n      <th>monthOfRegistration</th>\n      <th>fuelType</th>\n      <th>brand</th>\n      <th>notRepairedDamage</th>\n      <th>dateCreated</th>\n      <th>nrOfPictures</th>\n      <th>postalCode</th>\n      <th>lastSeen</th>\n    </tr>\n  </thead>\n  <tbody>\n    <tr>\n      <th>0</th>\n      <td>2016-03-26 17:47:46</td>\n      <td>Peugeot_807_160_NAVTECH_ON_BOARD</td>\n      <td>privat</td>\n      <td>Angebot</td>\n      <td>$5,000</td>\n      <td>control</td>\n      <td>bus</td>\n      <td>2004</td>\n      <td>manuell</td>\n      <td>158</td>\n      <td>andere</td>\n      <td>150,000km</td>\n      <td>3</td>\n      <td>lpg</td>\n      <td>peugeot</td>\n      <td>nein</td>\n      <td>2016-03-26 00:00:00</td>\n      <td>0</td>\n      <td>79588</td>\n      <td>2016-04-06 06:45:54</td>\n    </tr>\n    <tr>\n      <th>1</th>\n      <td>2016-04-04 13:38:56</td>\n      <td>BMW_740i_4_4_Liter_HAMANN_UMBAU_Mega_Optik</td>\n      <td>privat</td>\n      <td>Angebot</td>\n      <td>$8,500</td>\n      <td>control</td>\n      <td>limousine</td>\n      <td>1997</td>\n      <td>automatik</td>\n      <td>286</td>\n      <td>7er</td>\n      <td>150,000km</td>\n      <td>6</td>\n      <td>benzin</td>\n      <td>bmw</td>\n      <td>nein</td>\n      <td>2016-04-04 00:00:00</td>\n      <td>0</td>\n      <td>71034</td>\n      <td>2016-04-06 14:45:08</td>\n    </tr>\n    <tr>\n      <th>2</th>\n      <td>2016-03-26 18:57:24</td>\n      <td>Volkswagen_Golf_1.6_United</td>\n      <td>privat</td>\n      <td>Angebot</td>\n      <td>$8,990</td>\n      <td>test</td>\n      <td>limousine</td>\n      <td>2009</td>\n      <td>manuell</td>\n      <td>102</td>\n      <td>golf</td>\n      <td>70,000km</td>\n      <td>7</td>\n      <td>benzin</td>\n      <td>volkswagen</td>\n      <td>nein</td>\n      <td>2016-03-26 00:00:00</td>\n      <td>0</td>\n      <td>35394</td>\n      <td>2016-04-06 20:15:37</td>\n    </tr>\n    <tr>\n      <th>3</th>\n      <td>2016-03-12 16:58:10</td>\n      <td>Smart_smart_fortwo_coupe_softouch/F1/Klima/Pan...</td>\n      <td>privat</td>\n      <td>Angebot</td>\n      <td>$4,350</td>\n      <td>control</td>\n      <td>kleinwagen</td>\n      <td>2007</td>\n      <td>automatik</td>\n      <td>71</td>\n      <td>fortwo</td>\n      <td>70,000km</td>\n      <td>6</td>\n      <td>benzin</td>\n      <td>smart</td>\n      <td>nein</td>\n      <td>2016-03-12 00:00:00</td>\n      <td>0</td>\n      <td>33729</td>\n      <td>2016-03-15 03:16:28</td>\n    </tr>\n    <tr>\n      <th>4</th>\n      <td>2016-04-01 14:38:50</td>\n      <td>Ford_Focus_1_6_Benzin_TÜV_neu_ist_sehr_gepfleg...</td>\n      <td>privat</td>\n      <td>Angebot</td>\n      <td>$1,350</td>\n      <td>test</td>\n      <td>kombi</td>\n      <td>2003</td>\n      <td>manuell</td>\n      <td>0</td>\n      <td>focus</td>\n      <td>150,000km</td>\n      <td>7</td>\n      <td>benzin</td>\n      <td>ford</td>\n      <td>nein</td>\n      <td>2016-04-01 00:00:00</td>\n      <td>0</td>\n      <td>39218</td>\n      <td>2016-04-01 14:38:50</td>\n    </tr>\n    <tr>\n      <th>...</th>\n      <td>...</td>\n      <td>...</td>\n      <td>...</td>\n      <td>...</td>\n      <td>...</td>\n      <td>...</td>\n      <td>...</td>\n      <td>...</td>\n      <td>...</td>\n      <td>...</td>\n      <td>...</td>\n      <td>...</td>\n      <td>...</td>\n      <td>...</td>\n      <td>...</td>\n      <td>...</td>\n      <td>...</td>\n      <td>...</td>\n      <td>...</td>\n      <td>...</td>\n    </tr>\n    <tr>\n      <th>49995</th>\n      <td>2016-03-27 14:38:19</td>\n      <td>Audi_Q5_3.0_TDI_qu._S_tr.__Navi__Panorama__Xenon</td>\n      <td>privat</td>\n      <td>Angebot</td>\n      <td>$24,900</td>\n      <td>control</td>\n      <td>limousine</td>\n      <td>2011</td>\n      <td>automatik</td>\n      <td>239</td>\n      <td>q5</td>\n      <td>100,000km</td>\n      <td>1</td>\n      <td>diesel</td>\n      <td>audi</td>\n      <td>nein</td>\n      <td>2016-03-27 00:00:00</td>\n      <td>0</td>\n      <td>82131</td>\n      <td>2016-04-01 13:47:40</td>\n    </tr>\n    <tr>\n      <th>49996</th>\n      <td>2016-03-28 10:50:25</td>\n      <td>Opel_Astra_F_Cabrio_Bertone_Edition___TÜV_neu+...</td>\n      <td>privat</td>\n      <td>Angebot</td>\n      <td>$1,980</td>\n      <td>control</td>\n      <td>cabrio</td>\n      <td>1996</td>\n      <td>manuell</td>\n      <td>75</td>\n      <td>astra</td>\n      <td>150,000km</td>\n      <td>5</td>\n      <td>benzin</td>\n      <td>opel</td>\n      <td>nein</td>\n      <td>2016-03-28 00:00:00</td>\n      <td>0</td>\n      <td>44807</td>\n      <td>2016-04-02 14:18:02</td>\n    </tr>\n    <tr>\n      <th>49997</th>\n      <td>2016-04-02 14:44:48</td>\n      <td>Fiat_500_C_1.2_Dualogic_Lounge</td>\n      <td>privat</td>\n      <td>Angebot</td>\n      <td>$13,200</td>\n      <td>test</td>\n      <td>cabrio</td>\n      <td>2014</td>\n      <td>automatik</td>\n      <td>69</td>\n      <td>500</td>\n      <td>5,000km</td>\n      <td>11</td>\n      <td>benzin</td>\n      <td>fiat</td>\n      <td>nein</td>\n      <td>2016-04-02 00:00:00</td>\n      <td>0</td>\n      <td>73430</td>\n      <td>2016-04-04 11:47:27</td>\n    </tr>\n    <tr>\n      <th>49998</th>\n      <td>2016-03-08 19:25:42</td>\n      <td>Audi_A3_2.0_TDI_Sportback_Ambition</td>\n      <td>privat</td>\n      <td>Angebot</td>\n      <td>$22,900</td>\n      <td>control</td>\n      <td>kombi</td>\n      <td>2013</td>\n      <td>manuell</td>\n      <td>150</td>\n      <td>a3</td>\n      <td>40,000km</td>\n      <td>11</td>\n      <td>diesel</td>\n      <td>audi</td>\n      <td>nein</td>\n      <td>2016-03-08 00:00:00</td>\n      <td>0</td>\n      <td>35683</td>\n      <td>2016-04-05 16:45:07</td>\n    </tr>\n    <tr>\n      <th>49999</th>\n      <td>2016-03-14 00:42:12</td>\n      <td>Opel_Vectra_1.6_16V</td>\n      <td>privat</td>\n      <td>Angebot</td>\n      <td>$1,250</td>\n      <td>control</td>\n      <td>limousine</td>\n      <td>1996</td>\n      <td>manuell</td>\n      <td>101</td>\n      <td>vectra</td>\n      <td>150,000km</td>\n      <td>1</td>\n      <td>benzin</td>\n      <td>opel</td>\n      <td>nein</td>\n      <td>2016-03-13 00:00:00</td>\n      <td>0</td>\n      <td>45897</td>\n      <td>2016-04-06 21:18:48</td>\n    </tr>\n  </tbody>\n</table>\n<p>50000 rows × 20 columns</p>\n</div>",
      "text/plain": "               dateCrawled                                               name  \\\n0      2016-03-26 17:47:46                   Peugeot_807_160_NAVTECH_ON_BOARD   \n1      2016-04-04 13:38:56         BMW_740i_4_4_Liter_HAMANN_UMBAU_Mega_Optik   \n2      2016-03-26 18:57:24                         Volkswagen_Golf_1.6_United   \n3      2016-03-12 16:58:10  Smart_smart_fortwo_coupe_softouch/F1/Klima/Pan...   \n4      2016-04-01 14:38:50  Ford_Focus_1_6_Benzin_TÜV_neu_ist_sehr_gepfleg...   \n...                    ...                                                ...   \n49995  2016-03-27 14:38:19   Audi_Q5_3.0_TDI_qu._S_tr.__Navi__Panorama__Xenon   \n49996  2016-03-28 10:50:25  Opel_Astra_F_Cabrio_Bertone_Edition___TÜV_neu+...   \n49997  2016-04-02 14:44:48                     Fiat_500_C_1.2_Dualogic_Lounge   \n49998  2016-03-08 19:25:42                 Audi_A3_2.0_TDI_Sportback_Ambition   \n49999  2016-03-14 00:42:12                                Opel_Vectra_1.6_16V   \n\n       seller offerType    price   abtest vehicleType  yearOfRegistration  \\\n0      privat   Angebot   $5,000  control         bus                2004   \n1      privat   Angebot   $8,500  control   limousine                1997   \n2      privat   Angebot   $8,990     test   limousine                2009   \n3      privat   Angebot   $4,350  control  kleinwagen                2007   \n4      privat   Angebot   $1,350     test       kombi                2003   \n...       ...       ...      ...      ...         ...                 ...   \n49995  privat   Angebot  $24,900  control   limousine                2011   \n49996  privat   Angebot   $1,980  control      cabrio                1996   \n49997  privat   Angebot  $13,200     test      cabrio                2014   \n49998  privat   Angebot  $22,900  control       kombi                2013   \n49999  privat   Angebot   $1,250  control   limousine                1996   \n\n         gearbox  powerPS   model   odometer  monthOfRegistration fuelType  \\\n0        manuell      158  andere  150,000km                    3      lpg   \n1      automatik      286     7er  150,000km                    6   benzin   \n2        manuell      102    golf   70,000km                    7   benzin   \n3      automatik       71  fortwo   70,000km                    6   benzin   \n4        manuell        0   focus  150,000km                    7   benzin   \n...          ...      ...     ...        ...                  ...      ...   \n49995  automatik      239      q5  100,000km                    1   diesel   \n49996    manuell       75   astra  150,000km                    5   benzin   \n49997  automatik       69     500    5,000km                   11   benzin   \n49998    manuell      150      a3   40,000km                   11   diesel   \n49999    manuell      101  vectra  150,000km                    1   benzin   \n\n            brand notRepairedDamage          dateCreated  nrOfPictures  \\\n0         peugeot              nein  2016-03-26 00:00:00             0   \n1             bmw              nein  2016-04-04 00:00:00             0   \n2      volkswagen              nein  2016-03-26 00:00:00             0   \n3           smart              nein  2016-03-12 00:00:00             0   \n4            ford              nein  2016-04-01 00:00:00             0   \n...           ...               ...                  ...           ...   \n49995        audi              nein  2016-03-27 00:00:00             0   \n49996        opel              nein  2016-03-28 00:00:00             0   \n49997        fiat              nein  2016-04-02 00:00:00             0   \n49998        audi              nein  2016-03-08 00:00:00             0   \n49999        opel              nein  2016-03-13 00:00:00             0   \n\n       postalCode             lastSeen  \n0           79588  2016-04-06 06:45:54  \n1           71034  2016-04-06 14:45:08  \n2           35394  2016-04-06 20:15:37  \n3           33729  2016-03-15 03:16:28  \n4           39218  2016-04-01 14:38:50  \n...           ...                  ...  \n49995       82131  2016-04-01 13:47:40  \n49996       44807  2016-04-02 14:18:02  \n49997       73430  2016-04-04 11:47:27  \n49998       35683  2016-04-05 16:45:07  \n49999       45897  2016-04-06 21:18:48  \n\n[50000 rows x 20 columns]"
     },
     "execution_count": 3,
     "metadata": {},
     "output_type": "execute_result"
    }
   ],
   "source": [
    "autos"
   ]
  },
  {
   "cell_type": "code",
   "execution_count": 4,
   "metadata": {},
   "outputs": [
    {
     "name": "stdout",
     "output_type": "stream",
     "text": "<class 'pandas.core.frame.DataFrame'>\nRangeIndex: 50000 entries, 0 to 49999\nData columns (total 20 columns):\n #   Column               Non-Null Count  Dtype \n---  ------               --------------  ----- \n 0   dateCrawled          50000 non-null  object\n 1   name                 50000 non-null  object\n 2   seller               50000 non-null  object\n 3   offerType            50000 non-null  object\n 4   price                50000 non-null  object\n 5   abtest               50000 non-null  object\n 6   vehicleType          44905 non-null  object\n 7   yearOfRegistration   50000 non-null  int64 \n 8   gearbox              47320 non-null  object\n 9   powerPS              50000 non-null  int64 \n 10  model                47242 non-null  object\n 11  odometer             50000 non-null  object\n 12  monthOfRegistration  50000 non-null  int64 \n 13  fuelType             45518 non-null  object\n 14  brand                50000 non-null  object\n 15  notRepairedDamage    40171 non-null  object\n 16  dateCreated          50000 non-null  object\n 17  nrOfPictures         50000 non-null  int64 \n 18  postalCode           50000 non-null  int64 \n 19  lastSeen             50000 non-null  object\ndtypes: int64(5), object(15)\nmemory usage: 7.6+ MB\n"
    }
   ],
   "source": [
    "autos.info()"
   ]
  },
  {
   "cell_type": "code",
   "execution_count": 52,
   "metadata": {},
   "outputs": [
    {
     "data": {
      "text/html": "<div>\n<style scoped>\n    .dataframe tbody tr th:only-of-type {\n        vertical-align: middle;\n    }\n\n    .dataframe tbody tr th {\n        vertical-align: top;\n    }\n\n    .dataframe thead th {\n        text-align: right;\n    }\n</style>\n<table border=\"1\" class=\"dataframe\">\n  <thead>\n    <tr style=\"text-align: right;\">\n      <th></th>\n      <th>dateCrawled</th>\n      <th>name</th>\n      <th>seller</th>\n      <th>offerType</th>\n      <th>price</th>\n      <th>abtest</th>\n      <th>vehicleType</th>\n      <th>yearOfRegistration</th>\n      <th>gearbox</th>\n      <th>powerPS</th>\n      <th>model</th>\n      <th>odometer</th>\n      <th>monthOfRegistration</th>\n      <th>fuelType</th>\n      <th>brand</th>\n      <th>notRepairedDamage</th>\n      <th>dateCreated</th>\n      <th>nrOfPictures</th>\n      <th>postalCode</th>\n      <th>lastSeen</th>\n    </tr>\n  </thead>\n  <tbody>\n    <tr>\n      <th>0</th>\n      <td>2016-03-26 17:47:46</td>\n      <td>Peugeot_807_160_NAVTECH_ON_BOARD</td>\n      <td>privat</td>\n      <td>Angebot</td>\n      <td>$5,000</td>\n      <td>control</td>\n      <td>bus</td>\n      <td>2004</td>\n      <td>manuell</td>\n      <td>158</td>\n      <td>andere</td>\n      <td>150,000km</td>\n      <td>3</td>\n      <td>lpg</td>\n      <td>peugeot</td>\n      <td>nein</td>\n      <td>2016-03-26 00:00:00</td>\n      <td>0</td>\n      <td>79588</td>\n      <td>2016-04-06 06:45:54</td>\n    </tr>\n    <tr>\n      <th>1</th>\n      <td>2016-04-04 13:38:56</td>\n      <td>BMW_740i_4_4_Liter_HAMANN_UMBAU_Mega_Optik</td>\n      <td>privat</td>\n      <td>Angebot</td>\n      <td>$8,500</td>\n      <td>control</td>\n      <td>limousine</td>\n      <td>1997</td>\n      <td>automatik</td>\n      <td>286</td>\n      <td>7er</td>\n      <td>150,000km</td>\n      <td>6</td>\n      <td>benzin</td>\n      <td>bmw</td>\n      <td>nein</td>\n      <td>2016-04-04 00:00:00</td>\n      <td>0</td>\n      <td>71034</td>\n      <td>2016-04-06 14:45:08</td>\n    </tr>\n    <tr>\n      <th>2</th>\n      <td>2016-03-26 18:57:24</td>\n      <td>Volkswagen_Golf_1.6_United</td>\n      <td>privat</td>\n      <td>Angebot</td>\n      <td>$8,990</td>\n      <td>test</td>\n      <td>limousine</td>\n      <td>2009</td>\n      <td>manuell</td>\n      <td>102</td>\n      <td>golf</td>\n      <td>70,000km</td>\n      <td>7</td>\n      <td>benzin</td>\n      <td>volkswagen</td>\n      <td>nein</td>\n      <td>2016-03-26 00:00:00</td>\n      <td>0</td>\n      <td>35394</td>\n      <td>2016-04-06 20:15:37</td>\n    </tr>\n    <tr>\n      <th>3</th>\n      <td>2016-03-12 16:58:10</td>\n      <td>Smart_smart_fortwo_coupe_softouch/F1/Klima/Pan...</td>\n      <td>privat</td>\n      <td>Angebot</td>\n      <td>$4,350</td>\n      <td>control</td>\n      <td>kleinwagen</td>\n      <td>2007</td>\n      <td>automatik</td>\n      <td>71</td>\n      <td>fortwo</td>\n      <td>70,000km</td>\n      <td>6</td>\n      <td>benzin</td>\n      <td>smart</td>\n      <td>nein</td>\n      <td>2016-03-12 00:00:00</td>\n      <td>0</td>\n      <td>33729</td>\n      <td>2016-03-15 03:16:28</td>\n    </tr>\n    <tr>\n      <th>4</th>\n      <td>2016-04-01 14:38:50</td>\n      <td>Ford_Focus_1_6_Benzin_TÜV_neu_ist_sehr_gepfleg...</td>\n      <td>privat</td>\n      <td>Angebot</td>\n      <td>$1,350</td>\n      <td>test</td>\n      <td>kombi</td>\n      <td>2003</td>\n      <td>manuell</td>\n      <td>0</td>\n      <td>focus</td>\n      <td>150,000km</td>\n      <td>7</td>\n      <td>benzin</td>\n      <td>ford</td>\n      <td>nein</td>\n      <td>2016-04-01 00:00:00</td>\n      <td>0</td>\n      <td>39218</td>\n      <td>2016-04-01 14:38:50</td>\n    </tr>\n  </tbody>\n</table>\n</div>",
      "text/plain": "           dateCrawled                                               name  \\\n0  2016-03-26 17:47:46                   Peugeot_807_160_NAVTECH_ON_BOARD   \n1  2016-04-04 13:38:56         BMW_740i_4_4_Liter_HAMANN_UMBAU_Mega_Optik   \n2  2016-03-26 18:57:24                         Volkswagen_Golf_1.6_United   \n3  2016-03-12 16:58:10  Smart_smart_fortwo_coupe_softouch/F1/Klima/Pan...   \n4  2016-04-01 14:38:50  Ford_Focus_1_6_Benzin_TÜV_neu_ist_sehr_gepfleg...   \n\n   seller offerType   price   abtest vehicleType  yearOfRegistration  \\\n0  privat   Angebot  $5,000  control         bus                2004   \n1  privat   Angebot  $8,500  control   limousine                1997   \n2  privat   Angebot  $8,990     test   limousine                2009   \n3  privat   Angebot  $4,350  control  kleinwagen                2007   \n4  privat   Angebot  $1,350     test       kombi                2003   \n\n     gearbox  powerPS   model   odometer  monthOfRegistration fuelType  \\\n0    manuell      158  andere  150,000km                    3      lpg   \n1  automatik      286     7er  150,000km                    6   benzin   \n2    manuell      102    golf   70,000km                    7   benzin   \n3  automatik       71  fortwo   70,000km                    6   benzin   \n4    manuell        0   focus  150,000km                    7   benzin   \n\n        brand notRepairedDamage          dateCreated  nrOfPictures  \\\n0     peugeot              nein  2016-03-26 00:00:00             0   \n1         bmw              nein  2016-04-04 00:00:00             0   \n2  volkswagen              nein  2016-03-26 00:00:00             0   \n3       smart              nein  2016-03-12 00:00:00             0   \n4        ford              nein  2016-04-01 00:00:00             0   \n\n   postalCode             lastSeen  \n0       79588  2016-04-06 06:45:54  \n1       71034  2016-04-06 14:45:08  \n2       35394  2016-04-06 20:15:37  \n3       33729  2016-03-15 03:16:28  \n4       39218  2016-04-01 14:38:50  "
     },
     "execution_count": 52,
     "metadata": {},
     "output_type": "execute_result"
    }
   ],
   "source": [
    "autos.head()"
   ]
  },
  {
   "cell_type": "code",
   "execution_count": 5,
   "metadata": {},
   "outputs": [
    {
     "data": {
      "text/plain": "Index(['dateCrawled', 'name', 'seller', 'offerType', 'price', 'abtest',\n       'vehicleType', 'yearOfRegistration', 'gearbox', 'powerPS', 'model',\n       'odometer', 'monthOfRegistration', 'fuelType', 'brand',\n       'notRepairedDamage', 'dateCreated', 'nrOfPictures', 'postalCode',\n       'lastSeen'],\n      dtype='object')"
     },
     "execution_count": 5,
     "metadata": {},
     "output_type": "execute_result"
    }
   ],
   "source": [
    "autos.columns"
   ]
  },
  {
   "cell_type": "markdown",
   "metadata": {},
   "source": []
  },
  {
   "cell_type": "markdown",
   "metadata": {},
   "source": [
    "**Let's convert the column names from `camelcase (aB)` to `snakecase (a_b)` and change the word some of the column names based on the data dictionary to be more descriptive.**"
   ]
  },
  {
   "cell_type": "code",
   "execution_count": 6,
   "metadata": {},
   "outputs": [],
   "source": [
    "autos.columns = ['date_crawled', 'name', 'seller', 'offer_type', 'price', 'abtest', 'vehicle_type', 'registration_year', 'gearbox', 'power_ps', 'model', 'odometer', 'registration_month', 'fuel_type', 'brand', 'unrepaired_damage', 'ad_created', 'nr_of_pictures', 'postal_code', 'last_seen']"
   ]
  },
  {
   "cell_type": "code",
   "execution_count": 7,
   "metadata": {},
   "outputs": [
    {
     "data": {
      "text/html": "<div>\n<style scoped>\n    .dataframe tbody tr th:only-of-type {\n        vertical-align: middle;\n    }\n\n    .dataframe tbody tr th {\n        vertical-align: top;\n    }\n\n    .dataframe thead th {\n        text-align: right;\n    }\n</style>\n<table border=\"1\" class=\"dataframe\">\n  <thead>\n    <tr style=\"text-align: right;\">\n      <th></th>\n      <th>date_crawled</th>\n      <th>name</th>\n      <th>seller</th>\n      <th>offer_type</th>\n      <th>price</th>\n      <th>abtest</th>\n      <th>vehicle_type</th>\n      <th>registration_year</th>\n      <th>gearbox</th>\n      <th>power_ps</th>\n      <th>model</th>\n      <th>odometer</th>\n      <th>registration_month</th>\n      <th>fuel_type</th>\n      <th>brand</th>\n      <th>unrepaired_damage</th>\n      <th>ad_created</th>\n      <th>nr_of_pictures</th>\n      <th>postal_code</th>\n      <th>last_seen</th>\n    </tr>\n  </thead>\n  <tbody>\n    <tr>\n      <th>0</th>\n      <td>2016-03-26 17:47:46</td>\n      <td>Peugeot_807_160_NAVTECH_ON_BOARD</td>\n      <td>privat</td>\n      <td>Angebot</td>\n      <td>$5,000</td>\n      <td>control</td>\n      <td>bus</td>\n      <td>2004</td>\n      <td>manuell</td>\n      <td>158</td>\n      <td>andere</td>\n      <td>150,000km</td>\n      <td>3</td>\n      <td>lpg</td>\n      <td>peugeot</td>\n      <td>nein</td>\n      <td>2016-03-26 00:00:00</td>\n      <td>0</td>\n      <td>79588</td>\n      <td>2016-04-06 06:45:54</td>\n    </tr>\n    <tr>\n      <th>1</th>\n      <td>2016-04-04 13:38:56</td>\n      <td>BMW_740i_4_4_Liter_HAMANN_UMBAU_Mega_Optik</td>\n      <td>privat</td>\n      <td>Angebot</td>\n      <td>$8,500</td>\n      <td>control</td>\n      <td>limousine</td>\n      <td>1997</td>\n      <td>automatik</td>\n      <td>286</td>\n      <td>7er</td>\n      <td>150,000km</td>\n      <td>6</td>\n      <td>benzin</td>\n      <td>bmw</td>\n      <td>nein</td>\n      <td>2016-04-04 00:00:00</td>\n      <td>0</td>\n      <td>71034</td>\n      <td>2016-04-06 14:45:08</td>\n    </tr>\n    <tr>\n      <th>2</th>\n      <td>2016-03-26 18:57:24</td>\n      <td>Volkswagen_Golf_1.6_United</td>\n      <td>privat</td>\n      <td>Angebot</td>\n      <td>$8,990</td>\n      <td>test</td>\n      <td>limousine</td>\n      <td>2009</td>\n      <td>manuell</td>\n      <td>102</td>\n      <td>golf</td>\n      <td>70,000km</td>\n      <td>7</td>\n      <td>benzin</td>\n      <td>volkswagen</td>\n      <td>nein</td>\n      <td>2016-03-26 00:00:00</td>\n      <td>0</td>\n      <td>35394</td>\n      <td>2016-04-06 20:15:37</td>\n    </tr>\n    <tr>\n      <th>3</th>\n      <td>2016-03-12 16:58:10</td>\n      <td>Smart_smart_fortwo_coupe_softouch/F1/Klima/Pan...</td>\n      <td>privat</td>\n      <td>Angebot</td>\n      <td>$4,350</td>\n      <td>control</td>\n      <td>kleinwagen</td>\n      <td>2007</td>\n      <td>automatik</td>\n      <td>71</td>\n      <td>fortwo</td>\n      <td>70,000km</td>\n      <td>6</td>\n      <td>benzin</td>\n      <td>smart</td>\n      <td>nein</td>\n      <td>2016-03-12 00:00:00</td>\n      <td>0</td>\n      <td>33729</td>\n      <td>2016-03-15 03:16:28</td>\n    </tr>\n    <tr>\n      <th>4</th>\n      <td>2016-04-01 14:38:50</td>\n      <td>Ford_Focus_1_6_Benzin_TÜV_neu_ist_sehr_gepfleg...</td>\n      <td>privat</td>\n      <td>Angebot</td>\n      <td>$1,350</td>\n      <td>test</td>\n      <td>kombi</td>\n      <td>2003</td>\n      <td>manuell</td>\n      <td>0</td>\n      <td>focus</td>\n      <td>150,000km</td>\n      <td>7</td>\n      <td>benzin</td>\n      <td>ford</td>\n      <td>nein</td>\n      <td>2016-04-01 00:00:00</td>\n      <td>0</td>\n      <td>39218</td>\n      <td>2016-04-01 14:38:50</td>\n    </tr>\n  </tbody>\n</table>\n</div>",
      "text/plain": "          date_crawled                                               name  \\\n0  2016-03-26 17:47:46                   Peugeot_807_160_NAVTECH_ON_BOARD   \n1  2016-04-04 13:38:56         BMW_740i_4_4_Liter_HAMANN_UMBAU_Mega_Optik   \n2  2016-03-26 18:57:24                         Volkswagen_Golf_1.6_United   \n3  2016-03-12 16:58:10  Smart_smart_fortwo_coupe_softouch/F1/Klima/Pan...   \n4  2016-04-01 14:38:50  Ford_Focus_1_6_Benzin_TÜV_neu_ist_sehr_gepfleg...   \n\n   seller offer_type   price   abtest vehicle_type  registration_year  \\\n0  privat    Angebot  $5,000  control          bus               2004   \n1  privat    Angebot  $8,500  control    limousine               1997   \n2  privat    Angebot  $8,990     test    limousine               2009   \n3  privat    Angebot  $4,350  control   kleinwagen               2007   \n4  privat    Angebot  $1,350     test        kombi               2003   \n\n     gearbox  power_ps   model   odometer  registration_month fuel_type  \\\n0    manuell       158  andere  150,000km                   3       lpg   \n1  automatik       286     7er  150,000km                   6    benzin   \n2    manuell       102    golf   70,000km                   7    benzin   \n3  automatik        71  fortwo   70,000km                   6    benzin   \n4    manuell         0   focus  150,000km                   7    benzin   \n\n        brand unrepaired_damage           ad_created  nr_of_pictures  \\\n0     peugeot              nein  2016-03-26 00:00:00               0   \n1         bmw              nein  2016-04-04 00:00:00               0   \n2  volkswagen              nein  2016-03-26 00:00:00               0   \n3       smart              nein  2016-03-12 00:00:00               0   \n4        ford              nein  2016-04-01 00:00:00               0   \n\n   postal_code            last_seen  \n0        79588  2016-04-06 06:45:54  \n1        71034  2016-04-06 14:45:08  \n2        35394  2016-04-06 20:15:37  \n3        33729  2016-03-15 03:16:28  \n4        39218  2016-04-01 14:38:50  "
     },
     "execution_count": 7,
     "metadata": {},
     "output_type": "execute_result"
    }
   ],
   "source": [
    "autos.head()"
   ]
  },
  {
   "cell_type": "code",
   "execution_count": 8,
   "metadata": {},
   "outputs": [
    {
     "data": {
      "text/html": "<div>\n<style scoped>\n    .dataframe tbody tr th:only-of-type {\n        vertical-align: middle;\n    }\n\n    .dataframe tbody tr th {\n        vertical-align: top;\n    }\n\n    .dataframe thead th {\n        text-align: right;\n    }\n</style>\n<table border=\"1\" class=\"dataframe\">\n  <thead>\n    <tr style=\"text-align: right;\">\n      <th></th>\n      <th>date_crawled</th>\n      <th>name</th>\n      <th>seller</th>\n      <th>offer_type</th>\n      <th>price</th>\n      <th>abtest</th>\n      <th>vehicle_type</th>\n      <th>registration_year</th>\n      <th>gearbox</th>\n      <th>power_ps</th>\n      <th>model</th>\n      <th>odometer</th>\n      <th>registration_month</th>\n      <th>fuel_type</th>\n      <th>brand</th>\n      <th>unrepaired_damage</th>\n      <th>ad_created</th>\n      <th>nr_of_pictures</th>\n      <th>postal_code</th>\n      <th>last_seen</th>\n    </tr>\n  </thead>\n  <tbody>\n    <tr>\n      <th>count</th>\n      <td>50000</td>\n      <td>50000</td>\n      <td>50000</td>\n      <td>50000</td>\n      <td>50000</td>\n      <td>50000</td>\n      <td>44905</td>\n      <td>50000.000000</td>\n      <td>47320</td>\n      <td>50000.000000</td>\n      <td>47242</td>\n      <td>50000</td>\n      <td>50000.000000</td>\n      <td>45518</td>\n      <td>50000</td>\n      <td>40171</td>\n      <td>50000</td>\n      <td>50000.0</td>\n      <td>50000.000000</td>\n      <td>50000</td>\n    </tr>\n    <tr>\n      <th>unique</th>\n      <td>48213</td>\n      <td>38754</td>\n      <td>2</td>\n      <td>2</td>\n      <td>2357</td>\n      <td>2</td>\n      <td>8</td>\n      <td>NaN</td>\n      <td>2</td>\n      <td>NaN</td>\n      <td>245</td>\n      <td>13</td>\n      <td>NaN</td>\n      <td>7</td>\n      <td>40</td>\n      <td>2</td>\n      <td>76</td>\n      <td>NaN</td>\n      <td>NaN</td>\n      <td>39481</td>\n    </tr>\n    <tr>\n      <th>top</th>\n      <td>2016-04-04 16:40:33</td>\n      <td>Ford_Fiesta</td>\n      <td>privat</td>\n      <td>Angebot</td>\n      <td>$0</td>\n      <td>test</td>\n      <td>limousine</td>\n      <td>NaN</td>\n      <td>manuell</td>\n      <td>NaN</td>\n      <td>golf</td>\n      <td>150,000km</td>\n      <td>NaN</td>\n      <td>benzin</td>\n      <td>volkswagen</td>\n      <td>nein</td>\n      <td>2016-04-03 00:00:00</td>\n      <td>NaN</td>\n      <td>NaN</td>\n      <td>2016-04-07 06:17:27</td>\n    </tr>\n    <tr>\n      <th>freq</th>\n      <td>3</td>\n      <td>78</td>\n      <td>49999</td>\n      <td>49999</td>\n      <td>1421</td>\n      <td>25756</td>\n      <td>12859</td>\n      <td>NaN</td>\n      <td>36993</td>\n      <td>NaN</td>\n      <td>4024</td>\n      <td>32424</td>\n      <td>NaN</td>\n      <td>30107</td>\n      <td>10687</td>\n      <td>35232</td>\n      <td>1946</td>\n      <td>NaN</td>\n      <td>NaN</td>\n      <td>8</td>\n    </tr>\n    <tr>\n      <th>mean</th>\n      <td>NaN</td>\n      <td>NaN</td>\n      <td>NaN</td>\n      <td>NaN</td>\n      <td>NaN</td>\n      <td>NaN</td>\n      <td>NaN</td>\n      <td>2005.073280</td>\n      <td>NaN</td>\n      <td>116.355920</td>\n      <td>NaN</td>\n      <td>NaN</td>\n      <td>5.723360</td>\n      <td>NaN</td>\n      <td>NaN</td>\n      <td>NaN</td>\n      <td>NaN</td>\n      <td>0.0</td>\n      <td>50813.627300</td>\n      <td>NaN</td>\n    </tr>\n    <tr>\n      <th>std</th>\n      <td>NaN</td>\n      <td>NaN</td>\n      <td>NaN</td>\n      <td>NaN</td>\n      <td>NaN</td>\n      <td>NaN</td>\n      <td>NaN</td>\n      <td>105.712813</td>\n      <td>NaN</td>\n      <td>209.216627</td>\n      <td>NaN</td>\n      <td>NaN</td>\n      <td>3.711984</td>\n      <td>NaN</td>\n      <td>NaN</td>\n      <td>NaN</td>\n      <td>NaN</td>\n      <td>0.0</td>\n      <td>25779.747957</td>\n      <td>NaN</td>\n    </tr>\n    <tr>\n      <th>min</th>\n      <td>NaN</td>\n      <td>NaN</td>\n      <td>NaN</td>\n      <td>NaN</td>\n      <td>NaN</td>\n      <td>NaN</td>\n      <td>NaN</td>\n      <td>1000.000000</td>\n      <td>NaN</td>\n      <td>0.000000</td>\n      <td>NaN</td>\n      <td>NaN</td>\n      <td>0.000000</td>\n      <td>NaN</td>\n      <td>NaN</td>\n      <td>NaN</td>\n      <td>NaN</td>\n      <td>0.0</td>\n      <td>1067.000000</td>\n      <td>NaN</td>\n    </tr>\n    <tr>\n      <th>25%</th>\n      <td>NaN</td>\n      <td>NaN</td>\n      <td>NaN</td>\n      <td>NaN</td>\n      <td>NaN</td>\n      <td>NaN</td>\n      <td>NaN</td>\n      <td>1999.000000</td>\n      <td>NaN</td>\n      <td>70.000000</td>\n      <td>NaN</td>\n      <td>NaN</td>\n      <td>3.000000</td>\n      <td>NaN</td>\n      <td>NaN</td>\n      <td>NaN</td>\n      <td>NaN</td>\n      <td>0.0</td>\n      <td>30451.000000</td>\n      <td>NaN</td>\n    </tr>\n    <tr>\n      <th>50%</th>\n      <td>NaN</td>\n      <td>NaN</td>\n      <td>NaN</td>\n      <td>NaN</td>\n      <td>NaN</td>\n      <td>NaN</td>\n      <td>NaN</td>\n      <td>2003.000000</td>\n      <td>NaN</td>\n      <td>105.000000</td>\n      <td>NaN</td>\n      <td>NaN</td>\n      <td>6.000000</td>\n      <td>NaN</td>\n      <td>NaN</td>\n      <td>NaN</td>\n      <td>NaN</td>\n      <td>0.0</td>\n      <td>49577.000000</td>\n      <td>NaN</td>\n    </tr>\n    <tr>\n      <th>75%</th>\n      <td>NaN</td>\n      <td>NaN</td>\n      <td>NaN</td>\n      <td>NaN</td>\n      <td>NaN</td>\n      <td>NaN</td>\n      <td>NaN</td>\n      <td>2008.000000</td>\n      <td>NaN</td>\n      <td>150.000000</td>\n      <td>NaN</td>\n      <td>NaN</td>\n      <td>9.000000</td>\n      <td>NaN</td>\n      <td>NaN</td>\n      <td>NaN</td>\n      <td>NaN</td>\n      <td>0.0</td>\n      <td>71540.000000</td>\n      <td>NaN</td>\n    </tr>\n    <tr>\n      <th>max</th>\n      <td>NaN</td>\n      <td>NaN</td>\n      <td>NaN</td>\n      <td>NaN</td>\n      <td>NaN</td>\n      <td>NaN</td>\n      <td>NaN</td>\n      <td>9999.000000</td>\n      <td>NaN</td>\n      <td>17700.000000</td>\n      <td>NaN</td>\n      <td>NaN</td>\n      <td>12.000000</td>\n      <td>NaN</td>\n      <td>NaN</td>\n      <td>NaN</td>\n      <td>NaN</td>\n      <td>0.0</td>\n      <td>99998.000000</td>\n      <td>NaN</td>\n    </tr>\n  </tbody>\n</table>\n</div>",
      "text/plain": "               date_crawled         name  seller offer_type  price abtest  \\\ncount                 50000        50000   50000      50000  50000  50000   \nunique                48213        38754       2          2   2357      2   \ntop     2016-04-04 16:40:33  Ford_Fiesta  privat    Angebot     $0   test   \nfreq                      3           78   49999      49999   1421  25756   \nmean                    NaN          NaN     NaN        NaN    NaN    NaN   \nstd                     NaN          NaN     NaN        NaN    NaN    NaN   \nmin                     NaN          NaN     NaN        NaN    NaN    NaN   \n25%                     NaN          NaN     NaN        NaN    NaN    NaN   \n50%                     NaN          NaN     NaN        NaN    NaN    NaN   \n75%                     NaN          NaN     NaN        NaN    NaN    NaN   \nmax                     NaN          NaN     NaN        NaN    NaN    NaN   \n\n       vehicle_type  registration_year  gearbox      power_ps  model  \\\ncount         44905       50000.000000    47320  50000.000000  47242   \nunique            8                NaN        2           NaN    245   \ntop       limousine                NaN  manuell           NaN   golf   \nfreq          12859                NaN    36993           NaN   4024   \nmean            NaN        2005.073280      NaN    116.355920    NaN   \nstd             NaN         105.712813      NaN    209.216627    NaN   \nmin             NaN        1000.000000      NaN      0.000000    NaN   \n25%             NaN        1999.000000      NaN     70.000000    NaN   \n50%             NaN        2003.000000      NaN    105.000000    NaN   \n75%             NaN        2008.000000      NaN    150.000000    NaN   \nmax             NaN        9999.000000      NaN  17700.000000    NaN   \n\n         odometer  registration_month fuel_type       brand unrepaired_damage  \\\ncount       50000        50000.000000     45518       50000             40171   \nunique         13                 NaN         7          40                 2   \ntop     150,000km                 NaN    benzin  volkswagen              nein   \nfreq        32424                 NaN     30107       10687             35232   \nmean          NaN            5.723360       NaN         NaN               NaN   \nstd           NaN            3.711984       NaN         NaN               NaN   \nmin           NaN            0.000000       NaN         NaN               NaN   \n25%           NaN            3.000000       NaN         NaN               NaN   \n50%           NaN            6.000000       NaN         NaN               NaN   \n75%           NaN            9.000000       NaN         NaN               NaN   \nmax           NaN           12.000000       NaN         NaN               NaN   \n\n                 ad_created  nr_of_pictures   postal_code            last_seen  \ncount                 50000         50000.0  50000.000000                50000  \nunique                   76             NaN           NaN                39481  \ntop     2016-04-03 00:00:00             NaN           NaN  2016-04-07 06:17:27  \nfreq                   1946             NaN           NaN                    8  \nmean                    NaN             0.0  50813.627300                  NaN  \nstd                     NaN             0.0  25779.747957                  NaN  \nmin                     NaN             0.0   1067.000000                  NaN  \n25%                     NaN             0.0  30451.000000                  NaN  \n50%                     NaN             0.0  49577.000000                  NaN  \n75%                     NaN             0.0  71540.000000                  NaN  \nmax                     NaN             0.0  99998.000000                  NaN  "
     },
     "execution_count": 8,
     "metadata": {},
     "output_type": "execute_result"
    }
   ],
   "source": [
    "autos.describe(include='all')"
   ]
  },
  {
   "cell_type": "markdown",
   "metadata": {},
   "source": [
    "**Removing Unwanted String from the Data and changing the numeric values from `String-type` to `Numeric-type` (either int or float).** \n",
    "\n",
    "*Then change the corresponding column name in an appropriate manner.*"
   ]
  },
  {
   "cell_type": "code",
   "execution_count": 9,
   "metadata": {},
   "outputs": [],
   "source": [
    "autos[\"price\"] = autos[\"price\"].str.replace('$','').str.replace(',','').astype(float)"
   ]
  },
  {
   "cell_type": "code",
   "execution_count": 10,
   "metadata": {},
   "outputs": [
    {
     "data": {
      "text/plain": "0    5000.0\n1    8500.0\n2    8990.0\n3    4350.0\n4    1350.0\nName: price, dtype: float64"
     },
     "execution_count": 10,
     "metadata": {},
     "output_type": "execute_result"
    }
   ],
   "source": [
    "autos['price'].head()"
   ]
  },
  {
   "cell_type": "code",
   "execution_count": 11,
   "metadata": {},
   "outputs": [],
   "source": [
    "autos[\"odometer\"] = autos[\"odometer\"].str.replace('km','').str.replace(',','').astype(float)"
   ]
  },
  {
   "cell_type": "code",
   "execution_count": 12,
   "metadata": {},
   "outputs": [
    {
     "data": {
      "text/plain": "0    150000.0\n1    150000.0\n2     70000.0\n3     70000.0\n4    150000.0\nName: odometer, dtype: float64"
     },
     "execution_count": 12,
     "metadata": {},
     "output_type": "execute_result"
    }
   ],
   "source": [
    "autos['odometer'].head()"
   ]
  },
  {
   "cell_type": "code",
   "execution_count": 13,
   "metadata": {},
   "outputs": [],
   "source": [
    "autos = autos.rename(index=str, columns={\"odometer\": \"odometer_km\"})"
   ]
  },
  {
   "cell_type": "code",
   "execution_count": 14,
   "metadata": {},
   "outputs": [
    {
     "data": {
      "text/plain": "150000.0    32424\n125000.0     5170\n100000.0     2169\n90000.0      1757\n80000.0      1436\n70000.0      1230\n60000.0      1164\n50000.0      1027\n5000.0        967\n40000.0       819\n30000.0       789\n20000.0       784\n10000.0       264\nName: odometer_km, dtype: int64"
     },
     "execution_count": 14,
     "metadata": {},
     "output_type": "execute_result"
    }
   ],
   "source": [
    "autos['odometer_km'].value_counts()"
   ]
  },
  {
   "cell_type": "code",
   "execution_count": 15,
   "metadata": {},
   "outputs": [
    {
     "name": "stdout",
     "output_type": "stream",
     "text": "0.0\n99999999.0\n5000.0\n150000.0\n"
    }
   ],
   "source": [
    "print(autos[\"price\"].min())\n",
    "print(autos[\"price\"].max())\n",
    "print(autos[\"odometer_km\"].min())\n",
    "print(autos[\"odometer_km\"].max())"
   ]
  },
  {
   "cell_type": "code",
   "execution_count": 16,
   "metadata": {},
   "outputs": [
    {
     "data": {
      "text/plain": "(2357,)"
     },
     "execution_count": 16,
     "metadata": {},
     "output_type": "execute_result"
    }
   ],
   "source": [
    "autos[\"price\"].unique().shape"
   ]
  },
  {
   "cell_type": "code",
   "execution_count": 17,
   "metadata": {},
   "outputs": [
    {
     "data": {
      "text/plain": "count    5.000000e+04\nmean     9.840044e+03\nstd      4.811044e+05\nmin      0.000000e+00\n25%      1.100000e+03\n50%      2.950000e+03\n75%      7.200000e+03\nmax      1.000000e+08\nName: price, dtype: float64"
     },
     "execution_count": 17,
     "metadata": {},
     "output_type": "execute_result"
    }
   ],
   "source": [
    "autos[\"price\"].describe()"
   ]
  },
  {
   "cell_type": "markdown",
   "metadata": {},
   "source": [
    "**From above we can see that the price is so much expensive(in reality it's impossible) because of this issue, we going to limit it upto `1000000`.**"
   ]
  },
  {
   "cell_type": "code",
   "execution_count": 18,
   "metadata": {},
   "outputs": [
    {
     "name": "stdout",
     "output_type": "stream",
     "text": "0.0    1421\n1.0     156\n2.0       3\n3.0       1\n5.0       2\nName: price, dtype: int64\n"
    }
   ],
   "source": [
    "price_review_asc = autos[\"price\"].value_counts(sort = True).sort_index(ascending = True).head()\n",
    "print(price_review_asc)"
   ]
  },
  {
   "cell_type": "code",
   "execution_count": 19,
   "metadata": {},
   "outputs": [
    {
     "name": "stdout",
     "output_type": "stream",
     "text": "99999999.0    1\n27322222.0    1\n12345678.0    3\n11111111.0    2\n10000000.0    1\nName: price, dtype: int64\n"
    }
   ],
   "source": [
    "price_review_desc = autos[\"price\"].value_counts(sort = True).sort_index(ascending = False).head()\n",
    "print(price_review_desc)"
   ]
  },
  {
   "cell_type": "code",
   "execution_count": 20,
   "metadata": {},
   "outputs": [],
   "source": [
    "autos = autos[autos[\"price\"].between(2,1000000)]"
   ]
  },
  {
   "cell_type": "code",
   "execution_count": 21,
   "metadata": {},
   "outputs": [
    {
     "name": "stdout",
     "output_type": "stream",
     "text": "2.0    3\n3.0    1\n5.0    2\n8.0    1\n9.0    1\nName: price, dtype: int64\n"
    }
   ],
   "source": [
    "price_review_asc = autos[\"price\"].value_counts(sort = True).sort_index(ascending = True).head()\n",
    "print(price_review_asc)"
   ]
  },
  {
   "cell_type": "code",
   "execution_count": 22,
   "metadata": {},
   "outputs": [
    {
     "name": "stdout",
     "output_type": "stream",
     "text": "999999.0    2\n999990.0    1\n350000.0    1\n345000.0    1\n299000.0    1\nName: price, dtype: int64\n"
    }
   ],
   "source": [
    "price_review_desc = autos[\"price\"].value_counts(sort = True).sort_index(ascending = False).head()\n",
    "print(price_review_desc)"
   ]
  },
  {
   "cell_type": "code",
   "execution_count": 23,
   "metadata": {},
   "outputs": [
    {
     "data": {
      "text/plain": "(13,)"
     },
     "execution_count": 23,
     "metadata": {},
     "output_type": "execute_result"
    }
   ],
   "source": [
    "autos['odometer_km'].unique().shape"
   ]
  },
  {
   "cell_type": "code",
   "execution_count": 24,
   "metadata": {},
   "outputs": [
    {
     "data": {
      "text/plain": "count     48412.000000\nmean     125789.886805\nstd       39736.834597\nmin        5000.000000\n25%      125000.000000\n50%      150000.000000\n75%      150000.000000\nmax      150000.000000\nName: odometer_km, dtype: float64"
     },
     "execution_count": 24,
     "metadata": {},
     "output_type": "execute_result"
    }
   ],
   "source": [
    "autos['odometer_km'].describe()"
   ]
  },
  {
   "cell_type": "code",
   "execution_count": 25,
   "metadata": {},
   "outputs": [
    {
     "name": "stdout",
     "output_type": "stream",
     "text": "5000.0     815\n10000.0    250\n20000.0    762\n30000.0    779\n40000.0    815\nName: odometer_km, dtype: int64\n"
    }
   ],
   "source": [
    "autos_odometer_asc = autos['odometer_km'].value_counts().sort_index(ascending=True).head()\n",
    "print(autos_odometer_asc)"
   ]
  },
  {
   "cell_type": "code",
   "execution_count": 26,
   "metadata": {},
   "outputs": [
    {
     "name": "stdout",
     "output_type": "stream",
     "text": "150000.0    31309\n125000.0     5047\n100000.0     2108\n90000.0      1733\n80000.0      1414\nName: odometer_km, dtype: int64\n"
    }
   ],
   "source": [
    "autos_odometer_desc = autos['odometer_km'].value_counts().sort_index(ascending=False).head()\n",
    "print(autos_odometer_desc)"
   ]
  },
  {
   "cell_type": "code",
   "execution_count": 27,
   "metadata": {},
   "outputs": [
    {
     "data": {
      "text/html": "<div>\n<style scoped>\n    .dataframe tbody tr th:only-of-type {\n        vertical-align: middle;\n    }\n\n    .dataframe tbody tr th {\n        vertical-align: top;\n    }\n\n    .dataframe thead th {\n        text-align: right;\n    }\n</style>\n<table border=\"1\" class=\"dataframe\">\n  <thead>\n    <tr style=\"text-align: right;\">\n      <th></th>\n      <th>date_crawled</th>\n      <th>name</th>\n      <th>seller</th>\n      <th>offer_type</th>\n      <th>price</th>\n      <th>abtest</th>\n      <th>vehicle_type</th>\n      <th>registration_year</th>\n      <th>gearbox</th>\n      <th>power_ps</th>\n      <th>model</th>\n      <th>odometer_km</th>\n      <th>registration_month</th>\n      <th>fuel_type</th>\n      <th>brand</th>\n      <th>unrepaired_damage</th>\n      <th>ad_created</th>\n      <th>nr_of_pictures</th>\n      <th>postal_code</th>\n      <th>last_seen</th>\n    </tr>\n  </thead>\n  <tbody>\n    <tr>\n      <th>0</th>\n      <td>2016-03-26 17:47:46</td>\n      <td>Peugeot_807_160_NAVTECH_ON_BOARD</td>\n      <td>privat</td>\n      <td>Angebot</td>\n      <td>5000.0</td>\n      <td>control</td>\n      <td>bus</td>\n      <td>2004</td>\n      <td>manuell</td>\n      <td>158</td>\n      <td>andere</td>\n      <td>150000.0</td>\n      <td>3</td>\n      <td>lpg</td>\n      <td>peugeot</td>\n      <td>nein</td>\n      <td>2016-03-26 00:00:00</td>\n      <td>0</td>\n      <td>79588</td>\n      <td>2016-04-06 06:45:54</td>\n    </tr>\n    <tr>\n      <th>1</th>\n      <td>2016-04-04 13:38:56</td>\n      <td>BMW_740i_4_4_Liter_HAMANN_UMBAU_Mega_Optik</td>\n      <td>privat</td>\n      <td>Angebot</td>\n      <td>8500.0</td>\n      <td>control</td>\n      <td>limousine</td>\n      <td>1997</td>\n      <td>automatik</td>\n      <td>286</td>\n      <td>7er</td>\n      <td>150000.0</td>\n      <td>6</td>\n      <td>benzin</td>\n      <td>bmw</td>\n      <td>nein</td>\n      <td>2016-04-04 00:00:00</td>\n      <td>0</td>\n      <td>71034</td>\n      <td>2016-04-06 14:45:08</td>\n    </tr>\n    <tr>\n      <th>2</th>\n      <td>2016-03-26 18:57:24</td>\n      <td>Volkswagen_Golf_1.6_United</td>\n      <td>privat</td>\n      <td>Angebot</td>\n      <td>8990.0</td>\n      <td>test</td>\n      <td>limousine</td>\n      <td>2009</td>\n      <td>manuell</td>\n      <td>102</td>\n      <td>golf</td>\n      <td>70000.0</td>\n      <td>7</td>\n      <td>benzin</td>\n      <td>volkswagen</td>\n      <td>nein</td>\n      <td>2016-03-26 00:00:00</td>\n      <td>0</td>\n      <td>35394</td>\n      <td>2016-04-06 20:15:37</td>\n    </tr>\n    <tr>\n      <th>3</th>\n      <td>2016-03-12 16:58:10</td>\n      <td>Smart_smart_fortwo_coupe_softouch/F1/Klima/Pan...</td>\n      <td>privat</td>\n      <td>Angebot</td>\n      <td>4350.0</td>\n      <td>control</td>\n      <td>kleinwagen</td>\n      <td>2007</td>\n      <td>automatik</td>\n      <td>71</td>\n      <td>fortwo</td>\n      <td>70000.0</td>\n      <td>6</td>\n      <td>benzin</td>\n      <td>smart</td>\n      <td>nein</td>\n      <td>2016-03-12 00:00:00</td>\n      <td>0</td>\n      <td>33729</td>\n      <td>2016-03-15 03:16:28</td>\n    </tr>\n    <tr>\n      <th>4</th>\n      <td>2016-04-01 14:38:50</td>\n      <td>Ford_Focus_1_6_Benzin_TÜV_neu_ist_sehr_gepfleg...</td>\n      <td>privat</td>\n      <td>Angebot</td>\n      <td>1350.0</td>\n      <td>test</td>\n      <td>kombi</td>\n      <td>2003</td>\n      <td>manuell</td>\n      <td>0</td>\n      <td>focus</td>\n      <td>150000.0</td>\n      <td>7</td>\n      <td>benzin</td>\n      <td>ford</td>\n      <td>nein</td>\n      <td>2016-04-01 00:00:00</td>\n      <td>0</td>\n      <td>39218</td>\n      <td>2016-04-01 14:38:50</td>\n    </tr>\n    <tr>\n      <th>...</th>\n      <td>...</td>\n      <td>...</td>\n      <td>...</td>\n      <td>...</td>\n      <td>...</td>\n      <td>...</td>\n      <td>...</td>\n      <td>...</td>\n      <td>...</td>\n      <td>...</td>\n      <td>...</td>\n      <td>...</td>\n      <td>...</td>\n      <td>...</td>\n      <td>...</td>\n      <td>...</td>\n      <td>...</td>\n      <td>...</td>\n      <td>...</td>\n      <td>...</td>\n    </tr>\n    <tr>\n      <th>49995</th>\n      <td>2016-03-27 14:38:19</td>\n      <td>Audi_Q5_3.0_TDI_qu._S_tr.__Navi__Panorama__Xenon</td>\n      <td>privat</td>\n      <td>Angebot</td>\n      <td>24900.0</td>\n      <td>control</td>\n      <td>limousine</td>\n      <td>2011</td>\n      <td>automatik</td>\n      <td>239</td>\n      <td>q5</td>\n      <td>100000.0</td>\n      <td>1</td>\n      <td>diesel</td>\n      <td>audi</td>\n      <td>nein</td>\n      <td>2016-03-27 00:00:00</td>\n      <td>0</td>\n      <td>82131</td>\n      <td>2016-04-01 13:47:40</td>\n    </tr>\n    <tr>\n      <th>49996</th>\n      <td>2016-03-28 10:50:25</td>\n      <td>Opel_Astra_F_Cabrio_Bertone_Edition___TÜV_neu+...</td>\n      <td>privat</td>\n      <td>Angebot</td>\n      <td>1980.0</td>\n      <td>control</td>\n      <td>cabrio</td>\n      <td>1996</td>\n      <td>manuell</td>\n      <td>75</td>\n      <td>astra</td>\n      <td>150000.0</td>\n      <td>5</td>\n      <td>benzin</td>\n      <td>opel</td>\n      <td>nein</td>\n      <td>2016-03-28 00:00:00</td>\n      <td>0</td>\n      <td>44807</td>\n      <td>2016-04-02 14:18:02</td>\n    </tr>\n    <tr>\n      <th>49997</th>\n      <td>2016-04-02 14:44:48</td>\n      <td>Fiat_500_C_1.2_Dualogic_Lounge</td>\n      <td>privat</td>\n      <td>Angebot</td>\n      <td>13200.0</td>\n      <td>test</td>\n      <td>cabrio</td>\n      <td>2014</td>\n      <td>automatik</td>\n      <td>69</td>\n      <td>500</td>\n      <td>5000.0</td>\n      <td>11</td>\n      <td>benzin</td>\n      <td>fiat</td>\n      <td>nein</td>\n      <td>2016-04-02 00:00:00</td>\n      <td>0</td>\n      <td>73430</td>\n      <td>2016-04-04 11:47:27</td>\n    </tr>\n    <tr>\n      <th>49998</th>\n      <td>2016-03-08 19:25:42</td>\n      <td>Audi_A3_2.0_TDI_Sportback_Ambition</td>\n      <td>privat</td>\n      <td>Angebot</td>\n      <td>22900.0</td>\n      <td>control</td>\n      <td>kombi</td>\n      <td>2013</td>\n      <td>manuell</td>\n      <td>150</td>\n      <td>a3</td>\n      <td>40000.0</td>\n      <td>11</td>\n      <td>diesel</td>\n      <td>audi</td>\n      <td>nein</td>\n      <td>2016-03-08 00:00:00</td>\n      <td>0</td>\n      <td>35683</td>\n      <td>2016-04-05 16:45:07</td>\n    </tr>\n    <tr>\n      <th>49999</th>\n      <td>2016-03-14 00:42:12</td>\n      <td>Opel_Vectra_1.6_16V</td>\n      <td>privat</td>\n      <td>Angebot</td>\n      <td>1250.0</td>\n      <td>control</td>\n      <td>limousine</td>\n      <td>1996</td>\n      <td>manuell</td>\n      <td>101</td>\n      <td>vectra</td>\n      <td>150000.0</td>\n      <td>1</td>\n      <td>benzin</td>\n      <td>opel</td>\n      <td>nein</td>\n      <td>2016-03-13 00:00:00</td>\n      <td>0</td>\n      <td>45897</td>\n      <td>2016-04-06 21:18:48</td>\n    </tr>\n  </tbody>\n</table>\n<p>48412 rows × 20 columns</p>\n</div>",
      "text/plain": "              date_crawled                                               name  \\\n0      2016-03-26 17:47:46                   Peugeot_807_160_NAVTECH_ON_BOARD   \n1      2016-04-04 13:38:56         BMW_740i_4_4_Liter_HAMANN_UMBAU_Mega_Optik   \n2      2016-03-26 18:57:24                         Volkswagen_Golf_1.6_United   \n3      2016-03-12 16:58:10  Smart_smart_fortwo_coupe_softouch/F1/Klima/Pan...   \n4      2016-04-01 14:38:50  Ford_Focus_1_6_Benzin_TÜV_neu_ist_sehr_gepfleg...   \n...                    ...                                                ...   \n49995  2016-03-27 14:38:19   Audi_Q5_3.0_TDI_qu._S_tr.__Navi__Panorama__Xenon   \n49996  2016-03-28 10:50:25  Opel_Astra_F_Cabrio_Bertone_Edition___TÜV_neu+...   \n49997  2016-04-02 14:44:48                     Fiat_500_C_1.2_Dualogic_Lounge   \n49998  2016-03-08 19:25:42                 Audi_A3_2.0_TDI_Sportback_Ambition   \n49999  2016-03-14 00:42:12                                Opel_Vectra_1.6_16V   \n\n       seller offer_type    price   abtest vehicle_type  registration_year  \\\n0      privat    Angebot   5000.0  control          bus               2004   \n1      privat    Angebot   8500.0  control    limousine               1997   \n2      privat    Angebot   8990.0     test    limousine               2009   \n3      privat    Angebot   4350.0  control   kleinwagen               2007   \n4      privat    Angebot   1350.0     test        kombi               2003   \n...       ...        ...      ...      ...          ...                ...   \n49995  privat    Angebot  24900.0  control    limousine               2011   \n49996  privat    Angebot   1980.0  control       cabrio               1996   \n49997  privat    Angebot  13200.0     test       cabrio               2014   \n49998  privat    Angebot  22900.0  control        kombi               2013   \n49999  privat    Angebot   1250.0  control    limousine               1996   \n\n         gearbox  power_ps   model  odometer_km  registration_month fuel_type  \\\n0        manuell       158  andere     150000.0                   3       lpg   \n1      automatik       286     7er     150000.0                   6    benzin   \n2        manuell       102    golf      70000.0                   7    benzin   \n3      automatik        71  fortwo      70000.0                   6    benzin   \n4        manuell         0   focus     150000.0                   7    benzin   \n...          ...       ...     ...          ...                 ...       ...   \n49995  automatik       239      q5     100000.0                   1    diesel   \n49996    manuell        75   astra     150000.0                   5    benzin   \n49997  automatik        69     500       5000.0                  11    benzin   \n49998    manuell       150      a3      40000.0                  11    diesel   \n49999    manuell       101  vectra     150000.0                   1    benzin   \n\n            brand unrepaired_damage           ad_created  nr_of_pictures  \\\n0         peugeot              nein  2016-03-26 00:00:00               0   \n1             bmw              nein  2016-04-04 00:00:00               0   \n2      volkswagen              nein  2016-03-26 00:00:00               0   \n3           smart              nein  2016-03-12 00:00:00               0   \n4            ford              nein  2016-04-01 00:00:00               0   \n...           ...               ...                  ...             ...   \n49995        audi              nein  2016-03-27 00:00:00               0   \n49996        opel              nein  2016-03-28 00:00:00               0   \n49997        fiat              nein  2016-04-02 00:00:00               0   \n49998        audi              nein  2016-03-08 00:00:00               0   \n49999        opel              nein  2016-03-13 00:00:00               0   \n\n       postal_code            last_seen  \n0            79588  2016-04-06 06:45:54  \n1            71034  2016-04-06 14:45:08  \n2            35394  2016-04-06 20:15:37  \n3            33729  2016-03-15 03:16:28  \n4            39218  2016-04-01 14:38:50  \n...            ...                  ...  \n49995        82131  2016-04-01 13:47:40  \n49996        44807  2016-04-02 14:18:02  \n49997        73430  2016-04-04 11:47:27  \n49998        35683  2016-04-05 16:45:07  \n49999        45897  2016-04-06 21:18:48  \n\n[48412 rows x 20 columns]"
     },
     "execution_count": 27,
     "metadata": {},
     "output_type": "execute_result"
    }
   ],
   "source": [
    "autos"
   ]
  },
  {
   "cell_type": "code",
   "execution_count": 28,
   "metadata": {},
   "outputs": [
    {
     "data": {
      "text/html": "<div>\n<style scoped>\n    .dataframe tbody tr th:only-of-type {\n        vertical-align: middle;\n    }\n\n    .dataframe tbody tr th {\n        vertical-align: top;\n    }\n\n    .dataframe thead th {\n        text-align: right;\n    }\n</style>\n<table border=\"1\" class=\"dataframe\">\n  <thead>\n    <tr style=\"text-align: right;\">\n      <th></th>\n      <th>date_crawled</th>\n      <th>ad_created</th>\n      <th>last_seen</th>\n    </tr>\n  </thead>\n  <tbody>\n    <tr>\n      <th>0</th>\n      <td>2016-03-26 17:47:46</td>\n      <td>2016-03-26 00:00:00</td>\n      <td>2016-04-06 06:45:54</td>\n    </tr>\n    <tr>\n      <th>1</th>\n      <td>2016-04-04 13:38:56</td>\n      <td>2016-04-04 00:00:00</td>\n      <td>2016-04-06 14:45:08</td>\n    </tr>\n    <tr>\n      <th>2</th>\n      <td>2016-03-26 18:57:24</td>\n      <td>2016-03-26 00:00:00</td>\n      <td>2016-04-06 20:15:37</td>\n    </tr>\n    <tr>\n      <th>3</th>\n      <td>2016-03-12 16:58:10</td>\n      <td>2016-03-12 00:00:00</td>\n      <td>2016-03-15 03:16:28</td>\n    </tr>\n    <tr>\n      <th>4</th>\n      <td>2016-04-01 14:38:50</td>\n      <td>2016-04-01 00:00:00</td>\n      <td>2016-04-01 14:38:50</td>\n    </tr>\n  </tbody>\n</table>\n</div>",
      "text/plain": "          date_crawled           ad_created            last_seen\n0  2016-03-26 17:47:46  2016-03-26 00:00:00  2016-04-06 06:45:54\n1  2016-04-04 13:38:56  2016-04-04 00:00:00  2016-04-06 14:45:08\n2  2016-03-26 18:57:24  2016-03-26 00:00:00  2016-04-06 20:15:37\n3  2016-03-12 16:58:10  2016-03-12 00:00:00  2016-03-15 03:16:28\n4  2016-04-01 14:38:50  2016-04-01 00:00:00  2016-04-01 14:38:50"
     },
     "execution_count": 28,
     "metadata": {},
     "output_type": "execute_result"
    }
   ],
   "source": [
    "autos[['date_crawled', 'ad_created', 'last_seen']].head()"
   ]
  },
  {
   "cell_type": "markdown",
   "metadata": {},
   "source": [
    "**Along with date, time is also present which makes data much more complex so we remove the time.** "
   ]
  },
  {
   "cell_type": "code",
   "execution_count": 29,
   "metadata": {},
   "outputs": [],
   "source": [
    "autos['date_crawled'] = autos['date_crawled'].str[:10]\n",
    "\n",
    "autos['ad_created'] = autos['ad_created'].str[:10]\n",
    "\n",
    "autos['last_seen'] = autos['last_seen'].str[:10]"
   ]
  },
  {
   "cell_type": "code",
   "execution_count": 30,
   "metadata": {},
   "outputs": [
    {
     "data": {
      "text/plain": "2016-03-05    0.025366\n2016-03-06    0.014067\n2016-03-07    0.036045\n2016-03-08    0.033277\n2016-03-09    0.033050\nName: date_crawled, dtype: float64"
     },
     "execution_count": 30,
     "metadata": {},
     "output_type": "execute_result"
    }
   ],
   "source": [
    "autos['date_crawled'].value_counts(normalize=True, dropna=False).sort_index().head()"
   ]
  },
  {
   "cell_type": "code",
   "execution_count": 31,
   "metadata": {},
   "outputs": [
    {
     "data": {
      "text/plain": "2015-06-11    0.000021\n2015-08-10    0.000021\n2015-09-09    0.000021\n2015-11-10    0.000021\n2015-12-05    0.000021\nName: ad_created, dtype: float64"
     },
     "execution_count": 31,
     "metadata": {},
     "output_type": "execute_result"
    }
   ],
   "source": [
    "autos['ad_created'].value_counts(normalize=True, dropna=False).sort_index().head()"
   ]
  },
  {
   "cell_type": "code",
   "execution_count": 32,
   "metadata": {},
   "outputs": [
    {
     "data": {
      "text/plain": "2016-03-05    0.001074\n2016-03-06    0.004338\n2016-03-07    0.005412\n2016-03-08    0.007374\n2016-03-09    0.009626\nName: last_seen, dtype: float64"
     },
     "execution_count": 32,
     "metadata": {},
     "output_type": "execute_result"
    }
   ],
   "source": [
    "autos['last_seen'].value_counts(normalize=True, dropna=False).sort_index().head()"
   ]
  },
  {
   "cell_type": "code",
   "execution_count": 33,
   "metadata": {},
   "outputs": [
    {
     "data": {
      "text/plain": "count    48412.000000\nmean      2004.773507\nstd         88.780641\nmin       1000.000000\n25%       1999.000000\n50%       2004.000000\n75%       2008.000000\nmax       9999.000000\nName: registration_year, dtype: float64"
     },
     "execution_count": 33,
     "metadata": {},
     "output_type": "execute_result"
    }
   ],
   "source": [
    "autos['registration_year'].describe()"
   ]
  },
  {
   "cell_type": "markdown",
   "metadata": {},
   "source": [
    "**Above, we found that minimum year is 1000, so we range it from `1900`**"
   ]
  },
  {
   "cell_type": "code",
   "execution_count": 34,
   "metadata": {},
   "outputs": [],
   "source": [
    "autos = autos[autos['registration_year'].between(1900,2016)]"
   ]
  },
  {
   "cell_type": "code",
   "execution_count": 35,
   "metadata": {},
   "outputs": [
    {
     "data": {
      "text/plain": "count    46534.000000\nmean      2002.925323\nstd          7.160956\nmin       1910.000000\n25%       1999.000000\n50%       2003.000000\n75%       2008.000000\nmax       2016.000000\nName: registration_year, dtype: float64"
     },
     "execution_count": 35,
     "metadata": {},
     "output_type": "execute_result"
    }
   ],
   "source": [
    "autos['registration_year'].describe()"
   ]
  },
  {
   "cell_type": "code",
   "execution_count": 36,
   "metadata": {},
   "outputs": [
    {
     "data": {
      "text/plain": "2000    0.067220\n2005    0.062900\n1999    0.062019\n2004    0.058022\n2003    0.057958\nName: registration_year, dtype: float64"
     },
     "execution_count": 36,
     "metadata": {},
     "output_type": "execute_result"
    }
   ],
   "source": [
    "autos['registration_year'].value_counts(normalize=True, dropna=False).head()"
   ]
  },
  {
   "cell_type": "code",
   "execution_count": 37,
   "metadata": {},
   "outputs": [
    {
     "data": {
      "text/plain": "volkswagen        9836\nbmw               5116\nopel              4996\nmercedes_benz     4488\naudi              4030\nford              3257\nrenault           2193\npeugeot           1390\nfiat              1195\nseat               850\nskoda              764\nnissan             712\nmazda              709\nsmart              661\ncitroen            653\ntoyota             593\nhyundai            467\nsonstige_autos     449\nvolvo              425\nmini               409\nName: brand, dtype: int64"
     },
     "execution_count": 37,
     "metadata": {},
     "output_type": "execute_result"
    }
   ],
   "source": [
    "uniq_brands = autos['brand'].value_counts(normalize=False)[:20]\n",
    "uniq_brands"
   ]
  },
  {
   "cell_type": "markdown",
   "metadata": {},
   "source": [
    "**A person looks two things before buy automobiles they are:**\n",
    "- Mileage\n",
    "- Price"
   ]
  },
  {
   "cell_type": "code",
   "execution_count": 38,
   "metadata": {},
   "outputs": [],
   "source": [
    "brand_mean_prices = {} # Brand wise price\n",
    "mean_mileage = {} # Brand wise price"
   ]
  },
  {
   "cell_type": "code",
   "execution_count": 39,
   "metadata": {},
   "outputs": [
    {
     "data": {
      "text/plain": "Index(['volkswagen', 'bmw', 'opel', 'mercedes_benz', 'audi', 'ford', 'renault',\n       'peugeot', 'fiat', 'seat', 'skoda', 'nissan', 'mazda', 'smart',\n       'citroen', 'toyota', 'hyundai', 'sonstige_autos', 'volvo', 'mini'],\n      dtype='object')"
     },
     "execution_count": 39,
     "metadata": {},
     "output_type": "execute_result"
    }
   ],
   "source": [
    "uniq_brands.index"
   ]
  },
  {
   "cell_type": "code",
   "execution_count": 40,
   "metadata": {},
   "outputs": [
    {
     "data": {
      "text/plain": "{'volkswagen': 5620.021451809679,\n 'bmw': 8367.020719311962,\n 'opel': 2990.7203763010407,\n 'mercedes_benz': 8657.285427807486,\n 'audi': 9362.169478908188,\n 'ford': 4063.4052809333743,\n 'renault': 2483.889192886457,\n 'peugeot': 3100.6928057553955,\n 'fiat': 2818.456066945607,\n 'seat': 4412.747058823529,\n 'skoda': 6384.667539267016,\n 'nissan': 4750.063202247191,\n 'mazda': 4112.596614950635,\n 'smart': 3580.2239031770046,\n 'citroen': 3784.924961715161,\n 'toyota': 5167.091062394604,\n 'hyundai': 5376.740899357602,\n 'sonstige_autos': 12585.850779510023,\n 'volvo': 4969.774117647059,\n 'mini': 10613.459657701711}"
     },
     "execution_count": 40,
     "metadata": {},
     "output_type": "execute_result"
    }
   ],
   "source": [
    "for brand in uniq_brands.index:\n",
    "    mean_price = autos[autos['brand'] == brand]['price'].mean()\n",
    "    \n",
    "    mean_mile = autos[autos['brand'] == brand]['odometer_km'].mean()\n",
    "    \n",
    "    brand_mean_prices[brand] = mean_price\n",
    "    \n",
    "    mean_mileage[brand] = mean_mile\n",
    "    \n",
    "brand_mean_prices"
   ]
  },
  {
   "cell_type": "code",
   "execution_count": 41,
   "metadata": {},
   "outputs": [
    {
     "data": {
      "text/plain": "{'volkswagen': 128712.89141927613,\n 'bmw': 132553.75293197812,\n 'opel': 129322.4579663731,\n 'mercedes_benz': 130838.9037433155,\n 'audi': 129208.43672456576,\n 'ford': 124210.9303039607,\n 'renault': 128144.09484724123,\n 'peugeot': 127122.30215827338,\n 'fiat': 117066.94560669456,\n 'seat': 121029.41176470589,\n 'skoda': 110746.07329842931,\n 'nissan': 118370.78651685393,\n 'mazda': 124464.03385049365,\n 'smart': 99326.77760968229,\n 'citroen': 119647.77947932619,\n 'toyota': 115944.35075885328,\n 'hyundai': 106541.75588865097,\n 'sonstige_autos': 90256.12472160357,\n 'volvo': 138294.11764705883,\n 'mini': 88105.13447432763}"
     },
     "execution_count": 41,
     "metadata": {},
     "output_type": "execute_result"
    }
   ],
   "source": [
    "mean_mileage"
   ]
  },
  {
   "cell_type": "code",
   "execution_count": 42,
   "metadata": {},
   "outputs": [
    {
     "data": {
      "text/plain": "volkswagen         5620.021452\nbmw                8367.020719\nopel               2990.720376\nmercedes_benz      8657.285428\naudi               9362.169479\nford               4063.405281\nrenault            2483.889193\npeugeot            3100.692806\nfiat               2818.456067\nseat               4412.747059\nskoda              6384.667539\nnissan             4750.063202\nmazda              4112.596615\nsmart              3580.223903\ncitroen            3784.924962\ntoyota             5167.091062\nhyundai            5376.740899\nsonstige_autos    12585.850780\nvolvo              4969.774118\nmini              10613.459658\ndtype: float64"
     },
     "execution_count": 42,
     "metadata": {},
     "output_type": "execute_result"
    }
   ],
   "source": [
    "bmp_series = pd.Series(brand_mean_prices) # bmp = Brand Mileage Price\n",
    "mileage_series = pd.Series(mean_mileage)\n",
    "bmp_series"
   ]
  },
  {
   "cell_type": "code",
   "execution_count": 43,
   "metadata": {},
   "outputs": [
    {
     "data": {
      "text/plain": "volkswagen        128712.891419\nbmw               132553.752932\nopel              129322.457966\nmercedes_benz     130838.903743\naudi              129208.436725\nford              124210.930304\nrenault           128144.094847\npeugeot           127122.302158\nfiat              117066.945607\nseat              121029.411765\nskoda             110746.073298\nnissan            118370.786517\nmazda             124464.033850\nsmart              99326.777610\ncitroen           119647.779479\ntoyota            115944.350759\nhyundai           106541.755889\nsonstige_autos     90256.124722\nvolvo             138294.117647\nmini               88105.134474\ndtype: float64"
     },
     "execution_count": 43,
     "metadata": {},
     "output_type": "execute_result"
    }
   ],
   "source": [
    "mileage_series"
   ]
  },
  {
   "cell_type": "code",
   "execution_count": 44,
   "metadata": {},
   "outputs": [
    {
     "data": {
      "text/html": "<div>\n<style scoped>\n    .dataframe tbody tr th:only-of-type {\n        vertical-align: middle;\n    }\n\n    .dataframe tbody tr th {\n        vertical-align: top;\n    }\n\n    .dataframe thead th {\n        text-align: right;\n    }\n</style>\n<table border=\"1\" class=\"dataframe\">\n  <thead>\n    <tr style=\"text-align: right;\">\n      <th></th>\n      <th>mean_price</th>\n      <th>mean_mileage</th>\n    </tr>\n  </thead>\n  <tbody>\n    <tr>\n      <th>volkswagen</th>\n      <td>5620.021452</td>\n      <td>128712.891419</td>\n    </tr>\n    <tr>\n      <th>bmw</th>\n      <td>8367.020719</td>\n      <td>132553.752932</td>\n    </tr>\n    <tr>\n      <th>opel</th>\n      <td>2990.720376</td>\n      <td>129322.457966</td>\n    </tr>\n    <tr>\n      <th>mercedes_benz</th>\n      <td>8657.285428</td>\n      <td>130838.903743</td>\n    </tr>\n    <tr>\n      <th>audi</th>\n      <td>9362.169479</td>\n      <td>129208.436725</td>\n    </tr>\n    <tr>\n      <th>ford</th>\n      <td>4063.405281</td>\n      <td>124210.930304</td>\n    </tr>\n    <tr>\n      <th>renault</th>\n      <td>2483.889193</td>\n      <td>128144.094847</td>\n    </tr>\n    <tr>\n      <th>peugeot</th>\n      <td>3100.692806</td>\n      <td>127122.302158</td>\n    </tr>\n    <tr>\n      <th>fiat</th>\n      <td>2818.456067</td>\n      <td>117066.945607</td>\n    </tr>\n    <tr>\n      <th>seat</th>\n      <td>4412.747059</td>\n      <td>121029.411765</td>\n    </tr>\n    <tr>\n      <th>skoda</th>\n      <td>6384.667539</td>\n      <td>110746.073298</td>\n    </tr>\n    <tr>\n      <th>nissan</th>\n      <td>4750.063202</td>\n      <td>118370.786517</td>\n    </tr>\n    <tr>\n      <th>mazda</th>\n      <td>4112.596615</td>\n      <td>124464.033850</td>\n    </tr>\n    <tr>\n      <th>smart</th>\n      <td>3580.223903</td>\n      <td>99326.777610</td>\n    </tr>\n    <tr>\n      <th>citroen</th>\n      <td>3784.924962</td>\n      <td>119647.779479</td>\n    </tr>\n    <tr>\n      <th>toyota</th>\n      <td>5167.091062</td>\n      <td>115944.350759</td>\n    </tr>\n    <tr>\n      <th>hyundai</th>\n      <td>5376.740899</td>\n      <td>106541.755889</td>\n    </tr>\n    <tr>\n      <th>sonstige_autos</th>\n      <td>12585.850780</td>\n      <td>90256.124722</td>\n    </tr>\n    <tr>\n      <th>volvo</th>\n      <td>4969.774118</td>\n      <td>138294.117647</td>\n    </tr>\n    <tr>\n      <th>mini</th>\n      <td>10613.459658</td>\n      <td>88105.134474</td>\n    </tr>\n  </tbody>\n</table>\n</div>",
      "text/plain": "                  mean_price   mean_mileage\nvolkswagen       5620.021452  128712.891419\nbmw              8367.020719  132553.752932\nopel             2990.720376  129322.457966\nmercedes_benz    8657.285428  130838.903743\naudi             9362.169479  129208.436725\nford             4063.405281  124210.930304\nrenault          2483.889193  128144.094847\npeugeot          3100.692806  127122.302158\nfiat             2818.456067  117066.945607\nseat             4412.747059  121029.411765\nskoda            6384.667539  110746.073298\nnissan           4750.063202  118370.786517\nmazda            4112.596615  124464.033850\nsmart            3580.223903   99326.777610\ncitroen          3784.924962  119647.779479\ntoyota           5167.091062  115944.350759\nhyundai          5376.740899  106541.755889\nsonstige_autos  12585.850780   90256.124722\nvolvo            4969.774118  138294.117647\nmini            10613.459658   88105.134474"
     },
     "execution_count": 44,
     "metadata": {},
     "output_type": "execute_result"
    }
   ],
   "source": [
    "df = pd.DataFrame(bmp_series, columns = ['mean_price'])\n",
    "df['mean_mileage'] = mileage_series\n",
    "df"
   ]
  },
  {
   "cell_type": "markdown",
   "metadata": {},
   "source": [
    "**Suggestion for the best Vehicles in the sense the vehicles which Costs are `'moderate'` and gives `'good'` Mileage**"
   ]
  },
  {
   "cell_type": "code",
   "execution_count": 45,
   "metadata": {},
   "outputs": [
    {
     "data": {
      "text/html": "<div>\n<style scoped>\n    .dataframe tbody tr th:only-of-type {\n        vertical-align: middle;\n    }\n\n    .dataframe tbody tr th {\n        vertical-align: top;\n    }\n\n    .dataframe thead th {\n        text-align: right;\n    }\n</style>\n<table border=\"1\" class=\"dataframe\">\n  <thead>\n    <tr style=\"text-align: right;\">\n      <th></th>\n      <th>mean_price</th>\n      <th>mean_mileage</th>\n    </tr>\n  </thead>\n  <tbody>\n    <tr>\n      <th>volkswagen</th>\n      <td>5620.021452</td>\n      <td>128712.891419</td>\n    </tr>\n    <tr>\n      <th>skoda</th>\n      <td>6384.667539</td>\n      <td>110746.073298</td>\n    </tr>\n    <tr>\n      <th>toyota</th>\n      <td>5167.091062</td>\n      <td>115944.350759</td>\n    </tr>\n    <tr>\n      <th>hyundai</th>\n      <td>5376.740899</td>\n      <td>106541.755889</td>\n    </tr>\n  </tbody>\n</table>\n</div>",
      "text/plain": "             mean_price   mean_mileage\nvolkswagen  5620.021452  128712.891419\nskoda       6384.667539  110746.073298\ntoyota      5167.091062  115944.350759\nhyundai     5376.740899  106541.755889"
     },
     "execution_count": 45,
     "metadata": {},
     "output_type": "execute_result"
    }
   ],
   "source": [
    "df[df['mean_price'].between(5000,8000)]"
   ]
  },
  {
   "cell_type": "markdown",
   "metadata": {},
   "source": [
    "*`I conclude that, above Vehicles gives you best` value for money*"
   ]
  }
 ],
 "metadata": {
  "file_extension": ".py",
  "kernelspec": {
   "display_name": "Python 3",
   "language": "python",
   "name": "python3"
  },
  "language_info": {
   "codemirror_mode": {
    "name": "ipython",
    "version": 3
   },
   "file_extension": ".py",
   "mimetype": "text/x-python",
   "name": "python",
   "nbconvert_exporter": "python",
   "pygments_lexer": "ipython3",
   "version": "3.7.6-final"
  },
  "mimetype": "text/x-python",
  "name": "python",
  "npconvert_exporter": "python",
  "pygments_lexer": "ipython3",
  "version": 3
 },
 "nbformat": 4,
 "nbformat_minor": 2
}